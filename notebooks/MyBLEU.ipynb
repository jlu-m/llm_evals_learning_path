{
  "nbformat": 4,
  "nbformat_minor": 0,
  "metadata": {
    "colab": {
      "provenance": []
    },
    "kernelspec": {
      "name": "python3",
      "display_name": "Python 3"
    },
    "language_info": {
      "name": "python"
    }
  },
  "cells": [
    {
      "cell_type": "code",
      "execution_count": 1,
      "metadata": {
        "id": "GZkY_l47BhOb"
      },
      "outputs": [],
      "source": [
        "from collections import Counter\n",
        "\n",
        "def extract_ngrams(text, n):\n",
        "    \"\"\"Returns a list of n-grams from the input string.\"\"\"\n",
        "    tokens = text.strip().split()\n",
        "    return [tuple(tokens[i:i+n]) for i in range(len(tokens) - n + 1)]\n"
      ]
    },
    {
      "cell_type": "code",
      "source": [
        "print(extract_ngrams(\"the cat sat on the mat\", 2))\n",
        "# → [('the', 'cat'), ('cat', 'sat'), ('sat', 'on'), ('on', 'the'), ('the', 'mat')]\n"
      ],
      "metadata": {
        "colab": {
          "base_uri": "https://localhost:8080/"
        },
        "id": "oxcatiyzBlZU",
        "outputId": "968828b6-2f37-4768-861f-162c0bdef94d"
      },
      "execution_count": 4,
      "outputs": [
        {
          "output_type": "stream",
          "name": "stdout",
          "text": [
            "[('the', 'cat'), ('cat', 'sat'), ('sat', 'on'), ('on', 'the'), ('the', 'mat')]\n"
          ]
        }
      ]
    },
    {
      "cell_type": "code",
      "source": [
        "def modified_precision(candidate, reference, n):\n",
        "    \"\"\"Compute clipped precision for n-grams.\"\"\"\n",
        "    cand_ngrams = Counter(extract_ngrams(candidate, n))\n",
        "    ref_ngrams = Counter(extract_ngrams(reference, n))\n",
        "\n",
        "    overlap = {\n",
        "        ngram: min(count, ref_ngrams[ngram])\n",
        "        for ngram, count in cand_ngrams.items()\n",
        "    }\n",
        "    print(f\"🔍 Overlap for n={n} → {overlap}\")  # 👈 added line\n",
        "\n",
        "    clipped_count = sum(overlap.values())\n",
        "    total_count = sum(cand_ngrams.values())\n",
        "\n",
        "    if total_count == 0:\n",
        "        return 0.0\n",
        "    return clipped_count / total_count\n"
      ],
      "metadata": {
        "id": "xBxdwYt1DGyh"
      },
      "execution_count": 11,
      "outputs": []
    },
    {
      "cell_type": "code",
      "source": [
        "c = \"the cat sat on the mat\"\n",
        "r = \"the cat lay on the mat\"\n",
        "print(modified_precision(c, r, 3))  # BLEU-2 component\n"
      ],
      "metadata": {
        "colab": {
          "base_uri": "https://localhost:8080/"
        },
        "id": "xzmRs9crDL5m",
        "outputId": "47174690-c693-4db1-d291-d5432edffa71"
      },
      "execution_count": 12,
      "outputs": [
        {
          "output_type": "stream",
          "name": "stdout",
          "text": [
            "🔍 Overlap for n=3 → {('the', 'cat', 'sat'): 0, ('cat', 'sat', 'on'): 0, ('sat', 'on', 'the'): 0, ('on', 'the', 'mat'): 1}\n",
            "0.25\n"
          ]
        }
      ]
    },
    {
      "cell_type": "code",
      "source": [
        "import math\n",
        "\n",
        "def compute_bleu(candidate, reference):\n",
        "    precisions = []\n",
        "    for n in range(1, 5):\n",
        "        p_n = modified_precision(candidate, reference, n)\n",
        "        precisions.append(p_n)\n",
        "\n",
        "    # Avoid log(0)\n",
        "    if any(p == 0 for p in precisions):\n",
        "        geo_mean = 0\n",
        "    else:\n",
        "        logs = [math.log(p) for p in precisions]\n",
        "        geo_mean = math.exp(sum(logs) / 4)\n",
        "\n",
        "    # Brevity penalty\n",
        "    c_len = len(candidate.strip().split())\n",
        "    r_len = len(reference.strip().split())\n",
        "\n",
        "    if c_len > r_len:\n",
        "        bp = 1\n",
        "    elif c_len == 0:\n",
        "        bp = 0\n",
        "    else:\n",
        "        bp = math.exp(1 - r_len / c_len)\n",
        "\n",
        "    bleu = bp * geo_mean\n",
        "    return bleu\n"
      ],
      "metadata": {
        "id": "CRxpiKo_FPyP"
      },
      "execution_count": 13,
      "outputs": []
    },
    {
      "cell_type": "code",
      "source": [
        "cand = \"the cat jump on the mat\"\n",
        "ref = \"the cat sat on the mat\"\n",
        "print(\"Final BLEU score:\", compute_bleu(cand, ref))\n"
      ],
      "metadata": {
        "colab": {
          "base_uri": "https://localhost:8080/"
        },
        "id": "xwXJHa5YGPfU",
        "outputId": "977be5b6-2b2e-46ae-c6d7-a3bbc687f901"
      },
      "execution_count": 17,
      "outputs": [
        {
          "output_type": "stream",
          "name": "stdout",
          "text": [
            "🔍 Overlap for n=1 → {('the',): 2, ('cat',): 1, ('jump',): 0, ('on',): 1, ('mat',): 1}\n",
            "🔍 Overlap for n=2 → {('the', 'cat'): 1, ('cat', 'jump'): 0, ('jump', 'on'): 0, ('on', 'the'): 1, ('the', 'mat'): 1}\n",
            "🔍 Overlap for n=3 → {('the', 'cat', 'jump'): 0, ('cat', 'jump', 'on'): 0, ('jump', 'on', 'the'): 0, ('on', 'the', 'mat'): 1}\n",
            "🔍 Overlap for n=4 → {('the', 'cat', 'jump', 'on'): 0, ('cat', 'jump', 'on', 'the'): 0, ('jump', 'on', 'the', 'mat'): 0}\n",
            "Final BLEU score: 0.0\n"
          ]
        }
      ]
    }
  ]
}