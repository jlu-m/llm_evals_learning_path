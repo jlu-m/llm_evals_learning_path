{
  "nbformat": 4,
  "nbformat_minor": 0,
  "metadata": {
    "colab": {
      "provenance": [],
      "gpuType": "T4"
    },
    "kernelspec": {
      "name": "python3",
      "display_name": "Python 3"
    },
    "language_info": {
      "name": "python"
    },
    "accelerator": "GPU"
  },
  "cells": [
    {
      "cell_type": "code",
      "execution_count": null,
      "metadata": {
        "id": "HSLLbMrXq78t"
      },
      "outputs": [],
      "source": [
        "!pip install -qU datasets  # does nothing if already installed\n",
        "from datasets import load_dataset\n",
        "squad_ds = load_dataset(\"squad\", split=\"train\")\n",
        "print(f\"Loaded {len(squad_ds)} Q&A pairs\")\n",
        "squad_ds[:3]  # quick peek\n"
      ]
    },
    {
      "cell_type": "code",
      "source": [
        "import os, json\n",
        "sample_size   = 100\n",
        "random_seed   = 42\n",
        "out_path      = \"data/rag_qa.jsonl\"\n",
        "\n",
        "# deterministic shuffle → first 100 rows\n",
        "sampled = squad_ds.shuffle(seed=random_seed).select(range(sample_size))\n",
        "\n",
        "os.makedirs(os.path.dirname(out_path), exist_ok=True)\n",
        "with open(out_path, \"w\", encoding=\"utf-8\") as f:\n",
        "    for ex in sampled:\n",
        "        record = {\n",
        "            \"id\":       ex[\"id\"],\n",
        "            \"context\":  ex[\"context\"],\n",
        "            \"question\": ex[\"question\"],\n",
        "            # take the first annotated answer text\n",
        "            \"answer\":   ex[\"answers\"][\"text\"][0]\n",
        "        }\n",
        "        f.write(json.dumps(record, ensure_ascii=False) + \"\\n\")\n",
        "\n",
        "print(f\"Wrote {sample_size} records to {out_path}\")\n",
        "sampled[:2]   # quick sanity-check\n"
      ],
      "metadata": {
        "id": "Uan4CuPDr5dt"
      },
      "execution_count": null,
      "outputs": []
    }
  ]
}