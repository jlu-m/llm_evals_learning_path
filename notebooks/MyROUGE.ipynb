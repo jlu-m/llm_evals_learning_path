{
  "nbformat": 4,
  "nbformat_minor": 0,
  "metadata": {
    "colab": {
      "provenance": []
    },
    "kernelspec": {
      "name": "python3",
      "display_name": "Python 3"
    },
    "language_info": {
      "name": "python"
    }
  },
  "cells": [
    {
      "cell_type": "code",
      "execution_count": 1,
      "metadata": {
        "id": "igw5RmS_IZjf"
      },
      "outputs": [],
      "source": [
        "def lcs_length(a, b):\n",
        "    \"\"\"Compute the length of the Longest Common Subsequence (LCS) between two token lists.\"\"\"\n",
        "    m, n = len(a), len(b)\n",
        "    dp = [[0] * (n + 1) for _ in range(m + 1)]\n",
        "\n",
        "    for i in range(m):\n",
        "        for j in range(n):\n",
        "            if a[i] == b[j]:\n",
        "                dp[i+1][j+1] = dp[i][j] + 1\n",
        "            else:\n",
        "                dp[i+1][j+1] = max(dp[i][j+1], dp[i+1][j])\n",
        "\n",
        "    return dp[m][n]\n"
      ]
    },
    {
      "cell_type": "code",
      "source": [
        "def rouge_l(candidate, reference):\n",
        "    \"\"\"Compute ROUGE-L score (precision, recall, F1) between two strings.\"\"\"\n",
        "    cand_tokens = candidate.strip().split()\n",
        "    ref_tokens = reference.strip().split()\n",
        "\n",
        "    lcs = lcs_length(cand_tokens, ref_tokens)\n",
        "\n",
        "    prec = lcs / len(cand_tokens) if cand_tokens else 0.0\n",
        "    rec = lcs / len(ref_tokens) if ref_tokens else 0.0\n",
        "\n",
        "    if prec + rec == 0:\n",
        "        f1 = 0.0\n",
        "    else:\n",
        "        f1 = (2 * prec * rec) / (prec + rec)\n",
        "\n",
        "    return {\"precision\": prec, \"recall\": rec, \"f1\": f1}\n"
      ],
      "metadata": {
        "id": "nqIkF_8fJpvX"
      },
      "execution_count": 2,
      "outputs": []
    },
    {
      "cell_type": "code",
      "source": [
        "cand = \"the cat jump on the mat\"\n",
        "ref = \"the cat sat on the mat\"\n",
        "print(rouge_l(cand, ref))\n"
      ],
      "metadata": {
        "colab": {
          "base_uri": "https://localhost:8080/"
        },
        "id": "5VZGfjqjJxrY",
        "outputId": "75ce5e9b-b16a-4f00-d6f6-d50aeb07a54c"
      },
      "execution_count": 3,
      "outputs": [
        {
          "output_type": "stream",
          "name": "stdout",
          "text": [
            "{'precision': 0.8333333333333334, 'recall': 0.8333333333333334, 'f1': 0.8333333333333334}\n"
          ]
        }
      ]
    }
  ]
}