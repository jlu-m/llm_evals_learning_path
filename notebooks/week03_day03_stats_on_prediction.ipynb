{
  "nbformat": 4,
  "nbformat_minor": 0,
  "metadata": {
    "colab": {
      "provenance": [],
      "gpuType": "T4"
    },
    "kernelspec": {
      "name": "python3",
      "display_name": "Python 3"
    },
    "language_info": {
      "name": "python"
    },
    "accelerator": "GPU"
  },
  "cells": [
    {
      "cell_type": "code",
      "execution_count": 1,
      "metadata": {
        "colab": {
          "base_uri": "https://localhost:8080/"
        },
        "id": "UekAcy-K5e86",
        "outputId": "e02002e2-6f43-423d-a15d-ef264b6b5966"
      },
      "outputs": [
        {
          "output_type": "stream",
          "name": "stdout",
          "text": [
            "================================================================================\n",
            "Q: The Church of England uses what term that is held by two senior members of the College of Minor Canons of St. Pauls Catherdral?\n",
            "Gold: tituli\n",
            "Pred: Cardinal\n",
            "F1=0.00\n",
            "\n",
            "-- Context 1 --\n",
            "The term cardinal at one time applied to any priest permanently assigned or incardinated to a church, or specifically to the senior priest of an important church, based on the Latin cardo (hinge), meaning \"principal\" or \"chief\". The term was applied in this sense as early as the ninth century to the priests of the tituli (parishes) of the diocese of Rome. The Church of England retains an instance …\n",
            "================================================================================\n",
            "Q: What novel concept was introduced at the end of the 20th century?\n",
            "Gold: sustainability\n",
            "Pred: The concept of Israel becoming the 51st state in the United States was introduced at the end of the 20th century.\n",
            "F1=0.00\n",
            "\n",
            "-- Context 1 --\n",
            "In the late 20th century a new concept was added to those included in the compass of both structure and function, the consideration of sustainability, hence sustainable architecture. To satisfy the contemporary ethos a building should be constructed in a manner which is environmentally friendly in terms of the production of its materials, its impact upon the natural and built environment of its su…\n",
            "================================================================================\n",
            "Q: Whose efforts did Gaddafi see himself as continuing?\n",
            "Gold: Nasser\n",
            "Pred: Nasser's work.\n",
            "F1=0.00\n",
            "\n",
            "-- Context 1 --\n",
            "Gaddafi was a very private individual, who described himself as a \"simple revolutionary\" and \"pious Muslim\" called upon by Allah to continue Nasser's work. Reporter Mirella Bianco found that his friends considered him particularly loyal and generous, and asserted that he adored children. She was told by Gaddafi's father that even as a child he had been \"always serious, even taciturn\", a trait he a…\n",
            "================================================================================\n",
            "Q: What general was considered a potential Republican presidential candidate in 1948?\n",
            "Gold: MacArthur\n",
            "Pred: Eisenhower\n",
            "F1=0.00\n",
            "\n",
            "-- Context 1 --\n",
            "In June 1943 a visiting politician had suggested to Eisenhower that he might become President of the United States after the war. Believing that a general should not participate in politics, one author later wrote that \"figuratively speaking, [Eisenhower] kicked his political-minded visitor out of his office\". As others asked him about his political future, Eisenhower told one that he could not im…\n",
            "================================================================================\n",
            "Q: The number of people targeted in a genocide should not be solely evaluated by what?\n",
            "Gold: absolute terms\n",
            "Pred: The numeric size of the targeted part of the group.\n",
            "F1=0.00\n",
            "\n",
            "-- Context 1 --\n",
            "The judges continue in paragraph 12, \"The determination of when the targeted part is substantial enough to meet this requirement may involve a number of considerations. The numeric size of the targeted part of the group is the necessary and important starting point, though not in all cases the ending point of the inquiry. The number of individuals targeted should be evaluated not only in absolute …\n"
          ]
        }
      ],
      "source": [
        "import json, re, string, itertools\n",
        "\n",
        "def normalize(t):\n",
        "    t = t.lower()\n",
        "    t = re.sub(r'\\b(a|an|the)\\b', ' ', t)\n",
        "    t = t.translate(str.maketrans('', '', string.punctuation))\n",
        "    return ' '.join(t.split())\n",
        "\n",
        "def f1(pred, truth):\n",
        "    pred_t  = normalize(pred).split()\n",
        "    truth_t = normalize(truth).split()\n",
        "    common  = set(pred_t) & set(truth_t)\n",
        "    if not common:\n",
        "        return 0.0\n",
        "    prec = len(common) / len(pred_t)\n",
        "    rec  = len(common) / len(truth_t)\n",
        "    return 2 * prec * rec / (prec + rec)\n",
        "\n",
        "# load predictions and keep their retrieval contexts\n",
        "examples = []\n",
        "with open(\"data/rag_preds.jsonl\", encoding=\"utf-8\") as fp:\n",
        "    for line in fp:\n",
        "        ex = json.loads(line)\n",
        "        examples.append({\n",
        "            \"question\": ex[\"question\"],\n",
        "            \"answer\":   ex[\"answer\"],\n",
        "            \"pred\":     ex[\"pred\"],\n",
        "            \"contexts\": ex[\"context\"].split(\"\\n\\n---\\n\\n\") if \"---\" in ex[\"context\"] else [ex[\"context\"]],\n",
        "            \"f1\":       f1(ex[\"pred\"], ex[\"answer\"])\n",
        "        })\n",
        "\n",
        "# sort by ascending F1 and show the 5 worst\n",
        "for ex in sorted(examples, key=lambda d: d[\"f1\"])[:5]:\n",
        "    print(\"=\"*80)\n",
        "    print(\"Q:\", ex[\"question\"])\n",
        "    print(\"Gold:\", ex[\"answer\"])\n",
        "    print(\"Pred:\", ex[\"pred\"])\n",
        "    print(f\"F1={ex['f1']:.2f}\")\n",
        "    for i, ctx in enumerate(ex[\"contexts\"], 1):\n",
        "        print(f\"\\n-- Context {i} --\\n{ctx[:400]}…\")\n"
      ]
    },
    {
      "cell_type": "code",
      "source": [
        "import json, re, string\n",
        "from collections import Counter\n",
        "\n",
        "def normalize(text):\n",
        "    text = text.lower()\n",
        "    text = re.sub(r'\\b(a|an|the)\\b', ' ', text)\n",
        "    text = text.translate(str.maketrans('', '', string.punctuation))\n",
        "    return ' '.join(text.split())\n",
        "\n",
        "def answer_in_context(answer, context):\n",
        "    ans_tokens = set(normalize(answer).split())\n",
        "    ctx_tokens = set(normalize(context).split())\n",
        "    return ans_tokens.issubset(ctx_tokens)\n",
        "\n",
        "stats = Counter()\n",
        "\n",
        "with open(\"data/rag_preds.jsonl\", encoding=\"utf-8\") as fp:\n",
        "    for line in fp:\n",
        "        ex = json.loads(line)\n",
        "        contexts = ex[\"context\"].split(\"\\n\\n---\\n\\n\") if \"---\" in ex[\"context\"] else [ex[\"context\"]]\n",
        "        found = any(answer_in_context(ex[\"answer\"], c) for c in contexts)\n",
        "        if ex[\"pred\"] == ex[\"answer\"]:\n",
        "            stats[\"correct\"] += 1                # EM hit\n",
        "        elif not found:\n",
        "            stats[\"retriever_miss\"] += 1\n",
        "        else:\n",
        "            stats[\"generator_miss\"] += 1\n",
        "\n",
        "print(stats)\n"
      ],
      "metadata": {
        "colab": {
          "base_uri": "https://localhost:8080/"
        },
        "id": "xEOxL7nj6kcB",
        "outputId": "93056276-eacd-4209-bbb7-6b25e568551a"
      },
      "execution_count": 2,
      "outputs": [
        {
          "output_type": "stream",
          "name": "stdout",
          "text": [
            "Counter({'generator_miss': 74, 'correct': 25, 'retriever_miss': 1})\n"
          ]
        }
      ]
    }
  ]
}