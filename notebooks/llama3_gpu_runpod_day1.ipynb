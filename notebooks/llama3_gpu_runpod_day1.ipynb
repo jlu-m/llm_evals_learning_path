{
 "cells": [
  {
   "cell_type": "markdown",
   "metadata": {},
   "source": [
    "# 🧠 LLaMA 3 GPU Inference on RunPod\n",
    "Setup log for Week 2 – Day 1 of LLM Evaluation Roadmap"
   ]
  },
  {
   "cell_type": "code",
   "execution_count": null,
   "metadata": {},
   "outputs": [],
   "source": [
    "# ✅ 1. System setup (RunPod template: PyTorch 2.1 + CUDA 11.8)\n",
    "!apt update\n",
    "!apt install -y cmake build-essential libcurl4-openssl-dev git-lfs wget\n",
    "!pip install --upgrade pip\n",
    "!pip install huggingface_hub"
   ]
  },
  {
   "cell_type": "code",
   "execution_count": null,
   "metadata": {
    "scrolled": true
   },
   "outputs": [],
   "source": [
    "# ✅ 2. Clone and build llama.cpp with CUDA\n",
    "!rm -rf ~/llama.cpp\n",
    "\n",
    "!cd ~ && git clone https://github.com/ggerganov/llama.cpp.git\n",
    "!mkdir -p ~/llama.cpp/build\n"
   ]
  },
  {
   "cell_type": "code",
   "execution_count": null,
   "metadata": {},
   "outputs": [],
   "source": [
    "!cd ~/llama.cpp/build && cmake .. -DGGML_CUDA=on -DLLAMA_BUILD_EXAMPLES=on && make -j"
   ]
  },
  {
   "cell_type": "code",
   "execution_count": null,
   "metadata": {},
   "outputs": [],
   "source": [
    "# ✅ 3. Authenticate with Hugging Face and download model\n",
    "!huggingface-cli login --token <TOKEN-HERE> \n",
    "\n",
    "# Download model (4.6GB) into llama.cpp directory\n",
    "!mkdir -p ~/llama.cpp/models/llama-3\n",
    "!huggingface-cli download QuantFactory/Meta-Llama-3-8B-Instruct-GGUF --include \"Meta-Llama-3-8B-Instruct.Q4_K_M.gguf\" --local-dir ~/llama.cpp/models/llama-3\n"
   ]
  },
  {
   "cell_type": "code",
   "execution_count": null,
   "metadata": {},
   "outputs": [],
   "source": [
    "# ✅ 4. Run inference!\n",
    "#!~/llama.cpp/build/bin/llama-cli -m ~/llama.cpp/models/llama-3/Meta-Llama-3-8B-Instruct.Q4_K_M.gguf -p \"What is the capital of France?\" -n 128 --color"
   ]
  },
  {
   "cell_type": "code",
   "execution_count": null,
   "metadata": {},
   "outputs": [],
   "source": [
    "pip install \"git+https://github.com/EleutherAI/lm-evaluation-harness.git\"\n"
   ]
  },
  {
   "cell_type": "code",
   "execution_count": null,
   "metadata": {},
   "outputs": [],
   "source": [
    "!pip install -U sentencepiece\n",
    "!pip uninstall -y llama-cpp-python\n",
    "!CMAKE_ARGS=\"-DLLAMA_CUDA=on -DLLAMA_CUDA_ARCHS=86\" \\\n",
    "  pip install --no-binary :all: \"llama-cpp-python[server]\"\n",
    "\n"
   ]
  },
  {
   "cell_type": "code",
   "execution_count": null,
   "metadata": {
    "scrolled": true
   },
   "outputs": [],
   "source": [
    "python -m llama_cpp.server \\\n",
    "  --model $HOME/llama.cpp/models/llama-3/Meta-Llama-3-8B-Instruct.Q4_K_M.gguf \\\n",
    "  --n_gpu_layers -1 \\\n",
    "  --host 127.0.0.1 \\\n",
    "  --port 8000 \\\n",
    "  --verbose 1\n"
   ]
  },
  {
   "cell_type": "code",
   "execution_count": null,
   "metadata": {},
   "outputs": [],
   "source": [
    "!python -m lm_eval \\\n",
    "  --model gguf \\\n",
    "  --model_args \"base_url=http://127.0.0.1:8000,temperature=0\" \\\n",
    "  --tasks truthfulqa_gen \\\n",
    "  --limit 100 \\\n",
    "  --seed 42 \\\n",
    "  --output_path results/llama3_truthfulqa_sampled.json \\\n",
    "  --write_out \\\n",
    "  --log_samples \\\n",
    "  --verbosity INFO"
   ]
  }
 ],
 "metadata": {
  "kernelspec": {
   "display_name": "Python 3 (ipykernel)",
   "language": "python",
   "name": "python3"
  },
  "language_info": {
   "codemirror_mode": {
    "name": "ipython",
    "version": 3
   },
   "file_extension": ".py",
   "mimetype": "text/x-python",
   "name": "python",
   "nbconvert_exporter": "python",
   "pygments_lexer": "ipython3",
   "version": "3.10.12"
  }
 },
 "nbformat": 4,
 "nbformat_minor": 4
}
