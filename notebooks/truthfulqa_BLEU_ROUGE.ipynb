{
  "nbformat": 4,
  "nbformat_minor": 0,
  "metadata": {
    "colab": {
      "provenance": [],
      "gpuType": "T4"
    },
    "kernelspec": {
      "name": "python3",
      "display_name": "Python 3"
    },
    "language_info": {
      "name": "python"
    },
    "accelerator": "GPU"
  },
  "cells": [
    {
      "cell_type": "code",
      "source": [
        "!pip install -q datasets rouge-score evaluate nltk pandas numpy openai sentencepiece transformers t5\n",
        "\n"
      ],
      "metadata": {
        "colab": {
          "base_uri": "https://localhost:8080/"
        },
        "id": "y-QSh-JtimBl",
        "outputId": "d659f944-8f6c-40d7-c6e2-261dc8f7cee5"
      },
      "execution_count": 1,
      "outputs": [
        {
          "output_type": "stream",
          "name": "stdout",
          "text": [
            "\u001b[?25l   \u001b[90m━━━━━━━━━━━━━━━━━━━━━━━━━━━━━━━━━━━━━━━━\u001b[0m \u001b[32m0.0/319.9 kB\u001b[0m \u001b[31m?\u001b[0m eta \u001b[36m-:--:--\u001b[0m\r\u001b[2K   \u001b[91m━━━━━━━━━━━━━━━━━━━━━━━━━━━━━━━━━━━━━━━\u001b[0m\u001b[91m╸\u001b[0m \u001b[32m317.4/319.9 kB\u001b[0m \u001b[31m10.7 MB/s\u001b[0m eta \u001b[36m0:00:01\u001b[0m\r\u001b[2K   \u001b[90m━━━━━━━━━━━━━━━━━━━━━━━━━━━━━━━━━━━━━━━━\u001b[0m \u001b[32m319.9/319.9 kB\u001b[0m \u001b[31m7.2 MB/s\u001b[0m eta \u001b[36m0:00:00\u001b[0m\n",
            "\u001b[?25h"
          ]
        }
      ]
    },
    {
      "cell_type": "code",
      "source": [
        "import evaluate\n",
        "import pandas as pd\n",
        "\n",
        "# Load data and sample\n",
        "df = pd.read_csv(\"evals/TruthfulQA.csv\").sample(25, random_state=42)\n",
        "\n",
        "# Load metrics\n",
        "bleu = evaluate.load(\"bleu\")\n",
        "rouge = evaluate.load(\"rouge\")\n",
        "\n",
        "# Compute metrics\n",
        "predictions = df[\"Best Incorrect Answer\"].tolist()\n",
        "references = df[\"Best Answer\"].tolist()\n",
        "\n",
        "bleu_result = bleu.compute(predictions=predictions, references=[[r] for r in references])\n",
        "rouge_result = rouge.compute(predictions=predictions, references=references)\n",
        "\n",
        "# Display\n",
        "print(\"✅ BLEU Score:\", bleu_result)\n",
        "print(\"✅ ROUGE Scores:\", rouge_result)\n"
      ],
      "metadata": {
        "colab": {
          "base_uri": "https://localhost:8080/"
        },
        "id": "1ohH9TgEkH9s",
        "outputId": "62757497-fc5f-46d7-bada-576efceeef1a"
      },
      "execution_count": 3,
      "outputs": [
        {
          "output_type": "stream",
          "name": "stderr",
          "text": [
            "/usr/local/lib/python3.11/dist-packages/huggingface_hub/utils/_auth.py:94: UserWarning: \n",
            "The secret `HF_TOKEN` does not exist in your Colab secrets.\n",
            "To authenticate with the Hugging Face Hub, create a token in your settings tab (https://huggingface.co/settings/tokens), set it as secret in your Google Colab and restart your session.\n",
            "You will be able to reuse this secret in all of your notebooks.\n",
            "Please note that authentication is recommended but still optional to access public models or datasets.\n",
            "  warnings.warn(\n"
          ]
        },
        {
          "output_type": "stream",
          "name": "stdout",
          "text": [
            "✅ BLEU Score: {'bleu': 0.4235470655690326, 'precisions': [0.6694560669456067, 0.5327102803738317, 0.4421052631578947, 0.3855421686746988], 'brevity_penalty': 0.8529999279990207, 'length_ratio': 0.8628158844765343, 'translation_length': 239, 'reference_length': 277}\n",
            "✅ ROUGE Scores: {'rouge1': np.float64(0.5694230414558004), 'rouge2': np.float64(0.42349067581884925), 'rougeL': np.float64(0.5495062860702183), 'rougeLsum': np.float64(0.5516271849925102)}\n"
          ]
        }
      ]
    }
  ]
}