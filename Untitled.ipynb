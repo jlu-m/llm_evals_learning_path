{
 "cells": [
  {
   "cell_type": "code",
   "execution_count": 16,
   "id": "fce16996-c827-4059-959a-d94ccd528aca",
   "metadata": {},
   "outputs": [
    {
     "name": "stdout",
     "output_type": "stream",
     "text": [
      "['results',\n",
      " 'group_subtasks',\n",
      " 'configs',\n",
      " 'versions',\n",
      " 'n-shot',\n",
      " 'higher_is_better',\n",
      " 'n-samples',\n",
      " 'config',\n",
      " 'git_hash',\n",
      " 'date',\n",
      " 'pretty_env_info',\n",
      " 'transformers_version',\n",
      " 'lm_eval_version',\n",
      " 'upper_git_hash',\n",
      " 'task_hashes',\n",
      " 'model_source',\n",
      " 'model_name',\n",
      " 'model_name_sanitized',\n",
      " 'system_instruction',\n",
      " 'system_instruction_sha',\n",
      " 'fewshot_as_multiturn',\n",
      " 'chat_template',\n",
      " 'chat_template_sha',\n",
      " 'start_time',\n",
      " 'end_time',\n",
      " 'total_evaluation_time_seconds']\n"
     ]
    }
   ],
   "source": [
    "import json, pathlib, pprint\n",
    "path = pathlib.Path(\"evals/gpt4o_truthfulqa_sampled_2025-06-25T19-53-13.134470.json\")  # adjust if needed\n",
    "with path.open() as f:\n",
    "    data = json.load(f)\n",
    "\n",
    "pprint.pp(list(data.keys()))"
   ]
  },
  {
   "cell_type": "code",
   "execution_count": 15,
   "id": "128d5a0d-d91d-45de-a070-e88e13a4cbe9",
   "metadata": {},
   "outputs": [
    {
     "ename": "KeyError",
     "evalue": "'samples'",
     "output_type": "error",
     "traceback": [
      "\u001b[31m---------------------------------------------------------------------------\u001b[39m",
      "\u001b[31mKeyError\u001b[39m                                  Traceback (most recent call last)",
      "\u001b[36mCell\u001b[39m\u001b[36m \u001b[39m\u001b[32mIn[15]\u001b[39m\u001b[32m, line 5\u001b[39m\n\u001b[32m      3\u001b[39m \u001b[38;5;28;01mwith\u001b[39;00m path.open() \u001b[38;5;28;01mas\u001b[39;00m f:\n\u001b[32m      4\u001b[39m     data = json.load(f)\n\u001b[32m----> \u001b[39m\u001b[32m5\u001b[39m pprint.pp(\u001b[43mdata\u001b[49m\u001b[43m[\u001b[49m\u001b[33;43m\"\u001b[39;49m\u001b[33;43msamples\u001b[39;49m\u001b[33;43m\"\u001b[39;49m\u001b[43m]\u001b[49m[:\u001b[32m2\u001b[39m])      \u001b[38;5;66;03m# show the first 2 raw records\u001b[39;00m\n",
      "\u001b[31mKeyError\u001b[39m: 'samples'"
     ]
    }
   ],
   "source": [
    "import json, pprint, pathlib\n",
    "path = pathlib.Path(\"evals/gpt4o_truthfulqa_sampled_2025-06-25T19-53-13.134470.json\")  # or the Llama file\n",
    "with path.open() as f:\n",
    "    data = json.load(f)\n",
    "pprint.pp(data[\"samples\"][:2])      # show the first 2 raw records"
   ]
  },
  {
   "cell_type": "code",
   "execution_count": 14,
   "id": "c1c52b1c-b754-4c56-941c-e8b5b3c39b56",
   "metadata": {},
   "outputs": [
    {
     "name": "stdout",
     "output_type": "stream",
     "text": [
      "C:\\_jav\\source\\ai_repos\\llm_evals_learning_path\n"
     ]
    }
   ],
   "source": [
    "cd .."
   ]
  },
  {
   "cell_type": "code",
   "execution_count": null,
   "id": "507ba7c5-d273-49d8-b58b-154015a6215e",
   "metadata": {},
   "outputs": [],
   "source": []
  }
 ],
 "metadata": {
  "kernelspec": {
   "display_name": "Python 3 (ipykernel)",
   "language": "python",
   "name": "python3"
  },
  "language_info": {
   "codemirror_mode": {
    "name": "ipython",
    "version": 3
   },
   "file_extension": ".py",
   "mimetype": "text/x-python",
   "name": "python",
   "nbconvert_exporter": "python",
   "pygments_lexer": "ipython3",
   "version": "3.11.3"
  }
 },
 "nbformat": 4,
 "nbformat_minor": 5
}
